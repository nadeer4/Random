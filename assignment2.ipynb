{
  "cells": [
    {
      "cell_type": "markdown",
      "source": [
        "Romaisa Nadeem - Assignment 2\n",
        "\n",
        "---\n",
        "\n",
        "\n",
        "Statistics for Data Science - 1251"
      ],
      "metadata": {
        "id": "HQw4-kJvh9Wq"
      }
    },
    {
      "cell_type": "markdown",
      "metadata": {
        "id": "y8F-5tMKTQjL"
      },
      "source": [
        "## Assignment 2"
      ]
    },
    {
      "cell_type": "markdown",
      "metadata": {
        "id": "07Y_ONdkTQjR"
      },
      "source": [
        "This assignmemt is based on content discussed in module 2 and will work on a solution for the famous Monty Hall game.  Retrieved from https://en.wikipedia.org/wiki/Monty_Hall_problem\n"
      ]
    },
    {
      "cell_type": "markdown",
      "metadata": {
        "id": "7hNSzgdzTQjU"
      },
      "source": [
        "## Learning outcomes"
      ]
    },
    {
      "cell_type": "markdown",
      "metadata": {
        "id": "2QtRX9sRTQjX"
      },
      "source": [
        "- Program a simple simulation to solve a concrete statistical problem\n",
        "- Develop insight into the Bayesian probabilistic viewpoint\n",
        "- Recognize that statistical intuition can sometimes be wrong\n"
      ]
    },
    {
      "cell_type": "markdown",
      "metadata": {
        "id": "lfLffNUWTQja"
      },
      "source": [
        "**Question**\n",
        "\n",
        "Given below is the description of the problem.  \n",
        "\n",
        "Suppose you're on a game show and you're given the choice of three doors.\n",
        "\n",
        "Behind one door is a car; behind the others, goats. The car and the goats were placed randomly behind the doors before the show.\n",
        "\n",
        "The rules are:\n",
        "\n",
        "After you have chosen a door, the door remains closed for the time being.\n",
        "The game show host, Monty Hall, who knows what is behind the doors, now has to open one of the two remaining doors, and the door he opens must have a goat behind it. If both remaining doors have goats behind them, he chooses one randomly.\n",
        "\n",
        "After Monty opens a door with a goat, he will ask you to decide whether you want to stay with your first choice or to switch to the last remaining door.\n",
        "Imagine that you chose Door 1 and the host opens Door 3, which has a goat.\n",
        "He then asks you \"Do you want to switch to Door Number 2?\" Is it to your advantage to change your choice?\n",
        "\n",
        "**NOTES:**\n",
        "1. The player may initially choose any of the three doors (not just Door 1).\n",
        "2. The host opens a different door revealing a goat (not necessarily Door 3).\n",
        "3. The host gives the player a second choice between the two remaining unopened doors.\n"
      ]
    },
    {
      "cell_type": "markdown",
      "metadata": {
        "id": "L041acdjTQjb"
      },
      "source": [
        "![download.jpeg](attachment:download.jpeg)\n",
        "\n",
        "(Source: https://en.wikipedia.org/wiki/Monty_Hall_problem#)"
      ]
    },
    {
      "cell_type": "markdown",
      "metadata": {
        "id": "dAuGtwxzTQje"
      },
      "source": [
        "- Write Python code to solve the Monty Hall problem. Simulate at least a thousand games using three doors for each strategy and show the results in such a way as to make it easy to compare the effects of each strategy.\n"
      ]
    },
    {
      "cell_type": "code",
      "execution_count": 4,
      "metadata": {
        "colab": {
          "base_uri": "https://localhost:8080/"
        },
        "id": "GlZk3mKETQjg",
        "outputId": "e8fca9d9-cd4b-4d95-9b29-6ee1be6be78e"
      },
      "outputs": [
        {
          "output_type": "stream",
          "name": "stdout",
          "text": [
            "After 1000 simulations:\n",
            "Staying strategy wins: 349 times (34.9%)\n",
            "Switching strategy wins: 651 times (65.1%)\n"
          ]
        }
      ],
      "source": [
        "import random\n",
        "\n",
        "def simulate_monty_hall(num_simulations):\n",
        "    stay_wins = 0\n",
        "    switch_wins = 0\n",
        "\n",
        "    for _ in range(num_simulations):\n",
        "        car = random.randint(0, 2)\n",
        "        initial_choice = random.randint(0, 2)\n",
        "\n",
        "        # Host's door (must be a goat and not the initial choice)\n",
        "        remaining_doors = [door for door in [0, 1, 2] if door != initial_choice]\n",
        "        possible_host_doors = [door for door in remaining_doors if door != car]\n",
        "        host_open = random.choice(possible_host_doors)\n",
        "\n",
        "        # Determine the switch door (remaining unopened door)\n",
        "        switch_door = [door for door in [0, 1, 2] if door != initial_choice and door != host_open][0]\n",
        "\n",
        "        # Outcomes check\n",
        "        if initial_choice == car:\n",
        "            stay_wins += 1\n",
        "        if switch_door == car:\n",
        "            switch_wins += 1\n",
        "\n",
        "    return stay_wins, switch_wins\n",
        "\n",
        "# Running simulation\n",
        "num_simulations = 1000\n",
        "stay, switch = simulate_monty_hall(num_simulations)\n",
        "\n",
        "print(f\"After {num_simulations} simulations:\")\n",
        "print(f\"Staying strategy wins: {stay} times ({stay/num_simulations:.1%})\")\n",
        "print(f\"Switching strategy wins: {switch} times ({switch/num_simulations:.1%})\")"
      ]
    },
    {
      "cell_type": "code",
      "execution_count": 5,
      "metadata": {
        "colab": {
          "base_uri": "https://localhost:8080/",
          "height": 487
        },
        "id": "66jYOjQwhwqO",
        "outputId": "8a3be8d6-7d1a-4df8-d5ae-5882543b2064"
      },
      "outputs": [
        {
          "output_type": "display_data",
          "data": {
            "text/plain": [
              "<Figure size 800x500 with 1 Axes>"
            ],
            "image/png": "[encoded data removed]"
          },
          "metadata": {}
        }
      ],
      "source": [
        "import matplotlib.pyplot as plt\n",
        "\n",
        "# Visualization Data\n",
        "strategies = [\"Stay\", \"Switch\"]\n",
        "win_counts = [stay_wins, switch_wins]\n",
        "\n",
        "# Bar Chart\n",
        "plt.figure(figsize=(8, 5))\n",
        "plt.bar(strategies, win_counts, color=[\"red\", \"green\"])\n",
        "plt.xlabel(\"Strategy\")\n",
        "plt.ylabel(\"Wins\")\n",
        "plt.title(f\"Monty Hall Simulation Results ({num_simulations} games)\")\n",
        "plt.ylim(0, num_simulations)\n",
        "plt.text(0, stay_wins + 10, f\"{stay_wins} wins\\n({stay_wins/num_simulations:.1%})\", ha=\"center\", fontsize=12)\n",
        "plt.text(1, switch_wins + 10, f\"{switch_wins} wins\\n({switch_wins/num_simulations:.1%})\", ha=\"center\", fontsize=12)\n",
        "plt.show()\n"
      ]
    }
  ],
  "metadata": {
    "colab": {
      "provenance": []
    },
    "kernelspec": {
      "display_name": "Python 3",
      "language": "python",
      "name": "python3"
    },
    "language_info": {
      "codemirror_mode": {
        "name": "ipython",
        "version": 3
      },
      "file_extension": ".py",
      "mimetype": "text/x-python",
      "name": "python",
      "nbconvert_exporter": "python",
      "pygments_lexer": "ipython3",
      "version": "3.8.5"
    }
  },
  "nbformat": 4,
  "nbformat_minor": 0
}